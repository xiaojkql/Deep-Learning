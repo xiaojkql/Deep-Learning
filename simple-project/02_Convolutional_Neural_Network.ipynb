{
 "cells": [
  {
   "cell_type": "markdown",
   "metadata": {},
   "source": [
    "# Convolutional Neural Network"
   ]
  },
  {
   "cell_type": "markdown",
   "metadata": {},
   "source": [
    "## Introdution"
   ]
  },
  {
   "cell_type": "markdown",
   "metadata": {},
   "source": [
    "## Flowchart"
   ]
  },
  {
   "cell_type": "markdown",
   "metadata": {},
   "source": [
    "## Imports"
   ]
  },
  {
   "cell_type": "code",
   "execution_count": 1,
   "metadata": {},
   "outputs": [
    {
     "name": "stderr",
     "output_type": "stream",
     "text": [
      "D:\\Software\\Anaconda\\envs\\tft\\lib\\importlib\\_bootstrap.py:219: RuntimeWarning: numpy.ufunc size changed, may indicate binary incompatibility. Expected 192 from C header, got 216 from PyObject\n",
      "  return f(*args, **kwds)\n"
     ]
    }
   ],
   "source": [
    "%matplotlib inline\n",
    "import matplotlib.pyplot as plt\n",
    "import tensorflow as tf\n",
    "import numpy as np\n",
    "from sklearn.metrics import confusion_matrix\n",
    "import time\n",
    "from datetime import timedelta\n",
    "import math"
   ]
  },
  {
   "cell_type": "markdown",
   "metadata": {},
   "source": [
    "## Configuration of neural network"
   ]
  },
  {
   "cell_type": "code",
   "execution_count": 3,
   "metadata": {},
   "outputs": [],
   "source": [
    "# 两个卷积层，然后一个全连接层\n",
    "\n",
    "# Convolutional layer 1\n",
    "filter_size1 = 5\n",
    "num_filters1 = 16\n",
    "\n",
    "# convilutional layer 2\n",
    "filter_size2 = 5\n",
    "num_filers2 = 36\n",
    "\n",
    "# fully connected layer\n",
    "fc_size = 128"
   ]
  },
  {
   "cell_type": "markdown",
   "metadata": {},
   "source": [
    "## Load Data"
   ]
  },
  {
   "cell_type": "code",
   "execution_count": 7,
   "metadata": {},
   "outputs": [
    {
     "name": "stdout",
     "output_type": "stream",
     "text": [
      "Size of:\n",
      "- Train data-set:\t (55000, 784)\n",
      "- Test data-set:\t (10000, 784)\n",
      "- Val data-set:\t\t (5000, 784)\n"
     ]
    }
   ],
   "source": [
    "from mnist import MNIST\n",
    "data = MNIST(data_dir=\"data/MNIST\")\n",
    "\n",
    "# check the data-set\n",
    "print(\"Size of:\")\n",
    "print(\"- Train data-set:\\t {}\".format(data.x_train.shape))\n",
    "print(\"- Test data-set:\\t {}\".format(data.x_test.shape))\n",
    "print(\"- Val data-set:\\t\\t {}\".format(data.x_val.shape))"
   ]
  },
  {
   "cell_type": "code",
   "execution_count": 9,
   "metadata": {},
   "outputs": [],
   "source": [
    "img_size = data.img_size # 图像在每一个通道的每一维的像素点的数量\n",
    "img_size_flat = data.img_size_flat # 图像在每一个通道的像素斯安总数\n",
    "# print(img_size,img_size_flat)\n",
    "\n",
    "img_shape = data.img_shape\n",
    "num_classes = data.num_classes\n",
    "\n",
    "num_channels = data.num_channels\n"
   ]
  },
  {
   "cell_type": "code",
   "execution_count": 10,
   "metadata": {},
   "outputs": [],
   "source": [
    "def plot_images(images, cls_true, cls_pred=None):\n",
    "    assert len(images) == len(cls_true) == 9    \n",
    "    # Create figure with 3x3 sub-plots.\n",
    "    fig, axes = plt.subplots(3, 3)\n",
    "    fig.subplots_adjust(hspace=0.3, wspace=0.3)\n",
    "    for i, ax in enumerate(axes.flat):\n",
    "        # Plot image.\n",
    "        ax.imshow(images[i].reshape(img_shape), cmap='binary')\n",
    "        # Show true and predicted classes.\n",
    "        if cls_pred is None:\n",
    "            xlabel = \"True: {0}\".format(cls_true[i])\n",
    "        else:\n",
    "            xlabel = \"True: {0}, Pred: {1}\".format(cls_true[i], cls_pred[i])\n",
    "        # Show the classes as the label on the x-axis.\n",
    "        ax.set_xlabel(xlabel)       \n",
    "        # Remove ticks from the plot.\n",
    "        ax.set_xticks([])\n",
    "        ax.set_yticks([])  \n",
    "    # Ensure the plot is shown correctly with multiple plots\n",
    "    # in a single Notebook cell.\n",
    "    plt.show()"
   ]
  },
  {
   "cell_type": "code",
   "execution_count": 11,
   "metadata": {},
   "outputs": [
    {
     "data": {
      "image/png": "[encoded data removed]",
      "text/plain": [
       "<Figure size 432x288 with 9 Axes>"
      ]
     },
     "metadata": {},
     "output_type": "display_data"
    }
   ],
   "source": [
    "images = data.x_test[:9]\n",
    "cls_true = data.y_test_cls[:9]\n",
    "plot_images(images,cls_true)"
   ]
  },
  {
   "cell_type": "markdown",
   "metadata": {},
   "source": [
    "## Tensorflow Graph\n",
    "\n",
    "### Helper-function for creating new variables"
   ]
  },
  {
   "cell_type": "code",
   "execution_count": 12,
   "metadata": {},
   "outputs": [],
   "source": [
    "# define the shape, and the form of initialization\n",
    "def new_weights(shape):\n",
    "    return tf.Variable(tf.truncated_normal(shape,stddev=0.05))\n",
    "    \n",
    "def new_bias(length):\n",
    "    return tf.Variable(tf.constant(0.05,shape=[length]))"
   ]
  },
  {
   "cell_type": "markdown",
   "metadata": {},
   "source": [
    "### Helper function for creating new conv layer  "
   ]
  },
  {
   "cell_type": "code",
   "execution_count": 14,
   "metadata": {},
   "outputs": [],
   "source": [
    "# 仅仅是定义了这么一些东西，而非实际的定义，还没有传入一个session\n",
    "# input.shape = [N,W,H,C]\n",
    "def new_conv_layer(input,              # The input from the last layer\n",
    "                  num_input_channels,  # The input channels\n",
    "                  filter_size,         # The filter size weight=height\n",
    "                  num_filters,         # The filter num, the num of channels of nest layer\n",
    "                  use_pooling=True):    # whetcher to pooling\n",
    "    # 定义这一卷积层的weight的形状\n",
    "    # The tf format :[filter宽，filter高，上一层channel,下一层channels]\n",
    "    shape = [filter_size,filter_size,num_input_channels,num_filters]\n",
    "    weights = new_weights(shape=shape)\n",
    "    biase = new_bias(num_filters)\n",
    "    # 进行卷积操作\n",
    "    layer = tf.nn.conv2d(input=input,\n",
    "                        filter=weights,\n",
    "                        strides=[1,1,1,1],\n",
    "                        padding='SAME') + biase\n",
    "    # 是否需要池化\n",
    "    if use_pooling:\n",
    "        layer = tf.nn.max_pool(value=layer,\n",
    "                              ksize=[1,2,2,1],\n",
    "                              strides=[1,2,2,1],\n",
    "                              padding='SAME')\n",
    "    # 传入激活函数进行计算\n",
    "    layer = tf.nn.relu(layer)\n",
    "    return layer,weights\n",
    "    "
   ]
  },
  {
   "cell_type": "markdown",
   "metadata": {},
   "source": [
    "### Helper-function for flattening a layer"
   ]
  },
  {
   "cell_type": "code",
   "execution_count": 22,
   "metadata": {},
   "outputs": [],
   "source": [
    "# 作用将一个四维向量转换为一个2维向量\n",
    "def flatten_layer(input):\n",
    "    # 不是应该有tf.nn的函数接口吗\n",
    "    layer_shape = input.get_shape()\n",
    "    num_features = layer_shape[1:4].num_elements() # 使用了tf unfc\n",
    "    layer_flat = tf.reshape(input,[-1,num_features])\n",
    "    return layer_flat,num_features"
   ]
  },
  {
   "cell_type": "markdown",
   "metadata": {},
   "source": [
    "### Helper-function for create a fully-connected Layer\n",
    "[numimages,input_dim] --> [num_images,output_dim]"
   ]
  },
  {
   "cell_type": "code",
   "execution_count": 16,
   "metadata": {},
   "outputs": [],
   "source": [
    "def new_fc_layer(input,\n",
    "                input_dims,\n",
    "                output_dims,\n",
    "                use_relu=True):\n",
    "    shape = (input_dims,output_dims)\n",
    "    weights = new_weights(shape=shape)\n",
    "    biases = new_bias(length=output_dims)\n",
    "    layer = tf.matmul(input,weights) + biases\n",
    "    if use_relu:\n",
    "        layer = tf.nn.relu(layer)\n",
    "    return layer"
   ]
  },
  {
   "cell_type": "markdown",
   "metadata": {},
   "source": [
    "### Placeholder Variables"
   ]
  },
  {
   "cell_type": "code",
   "execution_count": 18,
   "metadata": {},
   "outputs": [],
   "source": [
    "x = tf.placeholder(tf.float32,[None,img_size_flat])\n",
    "# 转换为图像数据格式\n",
    "x_image = tf.reshape(x,[-1,img_size,img_size,num_channels])\n",
    "\n",
    "# y表示最开始给随着图像数据一起输入到模型时的标签\n",
    "y_true = tf.placeholder(tf.float32,[None,num_classes]) #一维向量\n",
    "y_true_cls = tf.argmax(y_true,1)"
   ]
  },
  {
   "cell_type": "markdown",
   "metadata": {},
   "source": [
    "### Convolutional layer"
   ]
  },
  {
   "cell_type": "code",
   "execution_count": 20,
   "metadata": {},
   "outputs": [],
   "source": [
    "# Convolutional layer1\n",
    "layer_conv1,weigths_conv1 = new_conv_layer(input=x_image,\n",
    "                                           num_input_channels=num_channels,\n",
    "                                           filter_size=filter_size1,\n",
    "                                           num_filters=num_filters1,\n",
    "                                           use_pooling=True)\n",
    "\n",
    "# Convolutional layer 2\n",
    "layer_conv2,weigths_conv2 = new_conv_layer(input=layer_conv1,\n",
    "                                          num_input_channels=num_filters1,\n",
    "                                          filter_size=filter_size2,\n",
    "                                          num_filters=num_filers2,\n",
    "                                          use_pooling=True)"
   ]
  },
  {
   "cell_type": "markdown",
   "metadata": {},
   "source": [
    "### Fully-Connected layer"
   ]
  },
  {
   "cell_type": "code",
   "execution_count": 23,
   "metadata": {},
   "outputs": [],
   "source": [
    "# 先进行转换\n",
    "layer_flat,num_features = flatten_layer(layer_conv2)\n",
    "\n",
    "# 第一全连接层\n",
    "layer_fc1 = new_fc_layer(input=layer_flat,\n",
    "                        input_dims=num_features,\n",
    "                        output_dims=fc_size,\n",
    "                        use_relu=True)\n",
    "\n",
    "# 第二全连接层\n",
    "layer_fc2 = new_fc_layer(input=layer_fc1,\n",
    "                        input_dims=fc_size,\n",
    "                        output_dims=num_classes,\n",
    "                        use_relu=True)"
   ]
  },
  {
   "cell_type": "markdown",
   "metadata": {},
   "source": [
    "### Predicted Class"
   ]
  },
  {
   "cell_type": "code",
   "execution_count": 24,
   "metadata": {},
   "outputs": [],
   "source": [
    "# y 的预测值 [0,1,0,0,0,0,0]\n",
    "y_pred = tf.nn.softmax(layer_fc2)\n",
    "y_pred_cls = tf.argmax(y_pred,1)"
   ]
  },
  {
   "cell_type": "markdown",
   "metadata": {},
   "source": [
    "### Cost function"
   ]
  },
  {
   "cell_type": "code",
   "execution_count": 25,
   "metadata": {},
   "outputs": [],
   "source": [
    "# 输入预测的[0,1,0,0,0,0] 与真实的[0,1,0,0,0,0]进行求交叉熵函数损失\n",
    "cross_entropy = tf.nn.softmax_cross_entropy_with_logits_v2(logits=layer_fc2,\n",
    "                                                          labels=y_true)"
   ]
  },
  {
   "cell_type": "markdown",
   "metadata": {},
   "source": [
    "### Optimizer method"
   ]
  },
  {
   "cell_type": "code",
   "execution_count": 26,
   "metadata": {},
   "outputs": [],
   "source": [
    "optimizer = tf.train.AdamOptimizer(learning_rate=1e-4).minimize(cross_entropy)"
   ]
  },
  {
   "cell_type": "markdown",
   "metadata": {},
   "source": [
    "### Performance Measures"
   ]
  },
  {
   "cell_type": "code",
   "execution_count": 27,
   "metadata": {},
   "outputs": [],
   "source": [
    "# 将预测的标签与真实的标签进行比较\n",
    "correct_predict = tf.equal(y_pred_cls,y_true_cls)\n",
    "accuracy = tf.reduce_mean(tf.cast(correct_predict,tf.float32))"
   ]
  },
  {
   "cell_type": "markdown",
   "metadata": {},
   "source": [
    "\n",
    "以上的定义了整个二层卷积网络的结构，需要的变量，代价函数，求解器，误差表示"
   ]
  },
  {
   "cell_type": "markdown",
   "metadata": {},
   "source": [
    "## Tensorflow Run\n",
    "\n",
    "### Initailization"
   ]
  },
  {
   "cell_type": "code",
   "execution_count": 36,
   "metadata": {},
   "outputs": [],
   "source": [
    "session = tf.Session()\n",
    "session.run(tf.global_variables_initializer())"
   ]
  },
  {
   "cell_type": "markdown",
   "metadata": {},
   "source": [
    "### Optimization"
   ]
  },
  {
   "cell_type": "code",
   "execution_count": 41,
   "metadata": {},
   "outputs": [],
   "source": [
    "batch_size = 64\n",
    "total_iterations = 0\n",
    "\n",
    "# helper function for optimization\n",
    "def optimize(num_iterations):\n",
    "    tic = time.time()\n",
    "    global total_iterations\n",
    "    for i in range(total_iterations,\n",
    "                   total_iterations+num_iterations):\n",
    "        batch_x,batch_y,_ = data.random_batch(batch_size=batch_size)\n",
    "        feed_dict_train = {x:batch_x,\n",
    "                          y_true:batch_y}\n",
    "        session.run(optimizer,feed_dict=feed_dict_train)\n",
    "        if i%100 == 0:\n",
    "            msg = \"Optimization Iteration: {0:>6}, Training Accuracy: {1:>6.1%}\"\n",
    "            acc = session.run(accuracy,feed_dict=feed_dict_train)\n",
    "            print(msg.format(i+1,acc))\n",
    "    total_iterations += num_iterations\n",
    "    toc = time.time()\n",
    "    time_diff = toc-tic\n",
    "    print(\"Time usage: \"+str(timedelta(seconds=int(round(time_diff)))))\n",
    "    \n",
    "# 是没有专门的预测函数进行对输入进行输出的预测，而是按照训练的时候一样输入数据\n",
    "# 但是此时就不要输入y_true因为没有用到损失函数，仅仅传入X就行，\n",
    "# 但也可以传入y但是不要运行optimizer，不然会再进行优化\n",
    "# 可以传入y进行精度的运算\n",
    "\n",
    "# helper-function for printing the test acc\n",
    "def print_test_accuaracy(plot_confusion_matrix_=False):\n",
    "    x_test = data.x_test\n",
    "    y_test_true_cls = data.y_test_cls\n",
    "    feed_dict_test = {x:x_test}\n",
    "    y_test_pred_cls = session.run(y_pred_cls,feed_dict=feed_dict_test)\n",
    "    correct_sum = (y_test_true_cls==y_test_pred_cls).sum()\n",
    "    test_sum = data.num_test\n",
    "    acc = float(correct_sum)/test_sum\n",
    "    print(\"Accuracy on test set:{0:.1%} ({1}/{2})\".format(acc,correct_sum,test_sum))\n",
    "    \n",
    "    if plot_confusion_matrix:\n",
    "        plot_confusion_matrix(y_test_true_cls,y_test_pred_cls)\n",
    "    \n",
    "\n",
    "# helper function for plotting confusion matrix\n",
    "def plot_confusion_matrix(y_true,y_pred):\n",
    "    cm = confusion_matrix(y_true=y_true,\n",
    "                         y_pred=y_pred)\n",
    "    print(cm)\n",
    "    plt.matshow(cm)\n",
    "    plt.colorbar()\n",
    "    tick_marks = np.arange(num_classes)\n",
    "    plt.xticks(tick_marks, range(num_classes))\n",
    "    plt.yticks(tick_marks, range(num_classes))\n",
    "    plt.xlabel('Predicted')\n",
    "    plt.ylabel('True')\n",
    "    # Ensure the plot is shown correctly with multiple plots\n",
    "    # in a single Notebook cell.\n",
    "    plt.show()"
   ]
  },
  {
   "cell_type": "code",
   "execution_count": 42,
   "metadata": {},
   "outputs": [
    {
     "name": "stdout",
     "output_type": "stream",
     "text": [
      "Before optimization accuracy:\n",
      "Accuracy on test set:78.9% (7892/10000)\n",
      "[[ 977    0    0    0    1    0    1    0    0    1]\n",
      " [   2 1129    0    1    0    1    0    2    0    0]\n",
      " [1004    9    0    9    4    0    1    5    0    0]\n",
      " [   5    0    0  990    0   14    0    1    0    0]\n",
      " [   0    0    0    0  980    0    1    0    0    1]\n",
      " [   1    0    0    0    0  889    2    0    0    0]\n",
      " [   5    3    0    0    5    7  938    0    0    0]\n",
      " [   6    2    0    4    5    0    0 1001    0   10]\n",
      " [ 910    5    0   14    7   24    3    2    0    9]\n",
      " [   2    5    0    0    7    6    0    1    0  988]]\n"
     ]
    },
    {
     "data": {
      "image/png": "[encoded data removed]",
      "text/plain": [
       "<Figure size 288x288 with 2 Axes>"
      ]
     },
     "metadata": {
      "needs_background": "light"
     },
     "output_type": "display_data"
    },
    {
     "name": "stdout",
     "output_type": "stream",
     "text": [
      "After 100 iterations optimizations:\n",
      "Optimization Iteration:      1, Training Accuracy:  81.2%\n",
      "Time usage: 0:00:05\n",
      "Accuracy on test set:79.2% (7922/10000)\n",
      "[[ 977    0    0    0    1    0    1    1    0    0]\n",
      " [   1 1130    0    2    0    0    0    2    0    0]\n",
      " [ 995    6    0   10    5    0    1   14    0    1]\n",
      " [   3    0    0 1003    0    2    0    1    0    1]\n",
      " [   0    0    0    0  978    0    1    0    0    3]\n",
      " [   2    0    0    5    0  879    3    1    0    2]\n",
      " [   5    3    0    0    4    1  945    0    0    0]\n",
      " [   2    2    0    4    1    0    0 1016    0    3]\n",
      " [ 909    5    0   12    8    7    6   10    0   17]\n",
      " [   1    3    0    1    5    1    0    4    0  994]]\n"
     ]
    },
    {
     "data": {
      "image/png": "[encoded data removed]",
      "text/plain": [
       "<Figure size 288x288 with 2 Axes>"
      ]
     },
     "metadata": {
      "needs_background": "light"
     },
     "output_type": "display_data"
    },
    {
     "name": "stdout",
     "output_type": "stream",
     "text": [
      "After 1000 iterations optimizations:\n",
      "Optimization Iteration:    101, Training Accuracy:  71.9%\n",
      "Optimization Iteration:    201, Training Accuracy:  85.9%\n",
      "Optimization Iteration:    301, Training Accuracy:  87.5%\n",
      "Optimization Iteration:    401, Training Accuracy:  81.2%\n",
      "Optimization Iteration:    501, Training Accuracy:  81.2%\n"
     ]
    },
    {
     "ename": "KeyboardInterrupt",
     "evalue": "",
     "output_type": "error",
     "traceback": [
      "\u001b[1;31m---------------------------------------------------------------------------\u001b[0m",
      "\u001b[1;31mKeyboardInterrupt\u001b[0m                         Traceback (most recent call last)",
      "\u001b[1;32m<ipython-input-42-7ca549c76523>\u001b[0m in \u001b[0;36m<module>\u001b[1;34m\u001b[0m\n\u001b[0;32m      5\u001b[0m \u001b[0mprint_test_accuaracy\u001b[0m\u001b[1;33m(\u001b[0m\u001b[1;33m)\u001b[0m\u001b[1;33m\u001b[0m\u001b[1;33m\u001b[0m\u001b[0m\n\u001b[0;32m      6\u001b[0m \u001b[0mprint\u001b[0m\u001b[1;33m(\u001b[0m\u001b[1;34m\"After 1000 iterations optimizations:\"\u001b[0m\u001b[1;33m)\u001b[0m\u001b[1;33m\u001b[0m\u001b[1;33m\u001b[0m\u001b[0m\n\u001b[1;32m----> 7\u001b[1;33m \u001b[0moptimize\u001b[0m\u001b[1;33m(\u001b[0m\u001b[1;36m900\u001b[0m\u001b[1;33m)\u001b[0m\u001b[1;33m\u001b[0m\u001b[1;33m\u001b[0m\u001b[0m\n\u001b[0m\u001b[0;32m      8\u001b[0m \u001b[0mprint_test_accuaracy\u001b[0m\u001b[1;33m(\u001b[0m\u001b[1;33m)\u001b[0m\u001b[1;33m\u001b[0m\u001b[1;33m\u001b[0m\u001b[0m\n",
      "\u001b[1;32m<ipython-input-41-8ff290dda5f1>\u001b[0m in \u001b[0;36moptimize\u001b[1;34m(num_iterations)\u001b[0m\n\u001b[0;32m     11\u001b[0m         feed_dict_train = {x:batch_x,\n\u001b[0;32m     12\u001b[0m                           y_true:batch_y}\n\u001b[1;32m---> 13\u001b[1;33m         \u001b[0msession\u001b[0m\u001b[1;33m.\u001b[0m\u001b[0mrun\u001b[0m\u001b[1;33m(\u001b[0m\u001b[0moptimizer\u001b[0m\u001b[1;33m,\u001b[0m\u001b[0mfeed_dict\u001b[0m\u001b[1;33m=\u001b[0m\u001b[0mfeed_dict_train\u001b[0m\u001b[1;33m)\u001b[0m\u001b[1;33m\u001b[0m\u001b[1;33m\u001b[0m\u001b[0m\n\u001b[0m\u001b[0;32m     14\u001b[0m         \u001b[1;32mif\u001b[0m \u001b[0mi\u001b[0m\u001b[1;33m%\u001b[0m\u001b[1;36m100\u001b[0m \u001b[1;33m==\u001b[0m \u001b[1;36m0\u001b[0m\u001b[1;33m:\u001b[0m\u001b[1;33m\u001b[0m\u001b[1;33m\u001b[0m\u001b[0m\n\u001b[0;32m     15\u001b[0m             \u001b[0mmsg\u001b[0m \u001b[1;33m=\u001b[0m \u001b[1;34m\"Optimization Iteration: {0:>6}, Training Accuracy: {1:>6.1%}\"\u001b[0m\u001b[1;33m\u001b[0m\u001b[1;33m\u001b[0m\u001b[0m\n",
      "\u001b[1;32mD:\\Software\\Anaconda\\envs\\tft\\lib\\site-packages\\tensorflow\\python\\client\\session.py\u001b[0m in \u001b[0;36mrun\u001b[1;34m(self, fetches, feed_dict, options, run_metadata)\u001b[0m\n\u001b[0;32m    927\u001b[0m     \u001b[1;32mtry\u001b[0m\u001b[1;33m:\u001b[0m\u001b[1;33m\u001b[0m\u001b[1;33m\u001b[0m\u001b[0m\n\u001b[0;32m    928\u001b[0m       result = self._run(None, fetches, feed_dict, options_ptr,\n\u001b[1;32m--> 929\u001b[1;33m                          run_metadata_ptr)\n\u001b[0m\u001b[0;32m    930\u001b[0m       \u001b[1;32mif\u001b[0m \u001b[0mrun_metadata\u001b[0m\u001b[1;33m:\u001b[0m\u001b[1;33m\u001b[0m\u001b[1;33m\u001b[0m\u001b[0m\n\u001b[0;32m    931\u001b[0m         \u001b[0mproto_data\u001b[0m \u001b[1;33m=\u001b[0m \u001b[0mtf_session\u001b[0m\u001b[1;33m.\u001b[0m\u001b[0mTF_GetBuffer\u001b[0m\u001b[1;33m(\u001b[0m\u001b[0mrun_metadata_ptr\u001b[0m\u001b[1;33m)\u001b[0m\u001b[1;33m\u001b[0m\u001b[1;33m\u001b[0m\u001b[0m\n",
      "\u001b[1;32mD:\\Software\\Anaconda\\envs\\tft\\lib\\site-packages\\tensorflow\\python\\client\\session.py\u001b[0m in \u001b[0;36m_run\u001b[1;34m(self, handle, fetches, feed_dict, options, run_metadata)\u001b[0m\n\u001b[0;32m   1150\u001b[0m     \u001b[1;32mif\u001b[0m \u001b[0mfinal_fetches\u001b[0m \u001b[1;32mor\u001b[0m \u001b[0mfinal_targets\u001b[0m \u001b[1;32mor\u001b[0m \u001b[1;33m(\u001b[0m\u001b[0mhandle\u001b[0m \u001b[1;32mand\u001b[0m \u001b[0mfeed_dict_tensor\u001b[0m\u001b[1;33m)\u001b[0m\u001b[1;33m:\u001b[0m\u001b[1;33m\u001b[0m\u001b[1;33m\u001b[0m\u001b[0m\n\u001b[0;32m   1151\u001b[0m       results = self._do_run(handle, final_targets, final_fetches,\n\u001b[1;32m-> 1152\u001b[1;33m                              feed_dict_tensor, options, run_metadata)\n\u001b[0m\u001b[0;32m   1153\u001b[0m     \u001b[1;32melse\u001b[0m\u001b[1;33m:\u001b[0m\u001b[1;33m\u001b[0m\u001b[1;33m\u001b[0m\u001b[0m\n\u001b[0;32m   1154\u001b[0m       \u001b[0mresults\u001b[0m \u001b[1;33m=\u001b[0m \u001b[1;33m[\u001b[0m\u001b[1;33m]\u001b[0m\u001b[1;33m\u001b[0m\u001b[1;33m\u001b[0m\u001b[0m\n",
      "\u001b[1;32mD:\\Software\\Anaconda\\envs\\tft\\lib\\site-packages\\tensorflow\\python\\client\\session.py\u001b[0m in \u001b[0;36m_do_run\u001b[1;34m(self, handle, target_list, fetch_list, feed_dict, options, run_metadata)\u001b[0m\n\u001b[0;32m   1326\u001b[0m     \u001b[1;32mif\u001b[0m \u001b[0mhandle\u001b[0m \u001b[1;32mis\u001b[0m \u001b[1;32mNone\u001b[0m\u001b[1;33m:\u001b[0m\u001b[1;33m\u001b[0m\u001b[1;33m\u001b[0m\u001b[0m\n\u001b[0;32m   1327\u001b[0m       return self._do_call(_run_fn, feeds, fetches, targets, options,\n\u001b[1;32m-> 1328\u001b[1;33m                            run_metadata)\n\u001b[0m\u001b[0;32m   1329\u001b[0m     \u001b[1;32melse\u001b[0m\u001b[1;33m:\u001b[0m\u001b[1;33m\u001b[0m\u001b[1;33m\u001b[0m\u001b[0m\n\u001b[0;32m   1330\u001b[0m       \u001b[1;32mreturn\u001b[0m \u001b[0mself\u001b[0m\u001b[1;33m.\u001b[0m\u001b[0m_do_call\u001b[0m\u001b[1;33m(\u001b[0m\u001b[0m_prun_fn\u001b[0m\u001b[1;33m,\u001b[0m \u001b[0mhandle\u001b[0m\u001b[1;33m,\u001b[0m \u001b[0mfeeds\u001b[0m\u001b[1;33m,\u001b[0m \u001b[0mfetches\u001b[0m\u001b[1;33m)\u001b[0m\u001b[1;33m\u001b[0m\u001b[1;33m\u001b[0m\u001b[0m\n",
      "\u001b[1;32mD:\\Software\\Anaconda\\envs\\tft\\lib\\site-packages\\tensorflow\\python\\client\\session.py\u001b[0m in \u001b[0;36m_do_call\u001b[1;34m(self, fn, *args)\u001b[0m\n\u001b[0;32m   1332\u001b[0m   \u001b[1;32mdef\u001b[0m \u001b[0m_do_call\u001b[0m\u001b[1;33m(\u001b[0m\u001b[0mself\u001b[0m\u001b[1;33m,\u001b[0m \u001b[0mfn\u001b[0m\u001b[1;33m,\u001b[0m \u001b[1;33m*\u001b[0m\u001b[0margs\u001b[0m\u001b[1;33m)\u001b[0m\u001b[1;33m:\u001b[0m\u001b[1;33m\u001b[0m\u001b[1;33m\u001b[0m\u001b[0m\n\u001b[0;32m   1333\u001b[0m     \u001b[1;32mtry\u001b[0m\u001b[1;33m:\u001b[0m\u001b[1;33m\u001b[0m\u001b[1;33m\u001b[0m\u001b[0m\n\u001b[1;32m-> 1334\u001b[1;33m       \u001b[1;32mreturn\u001b[0m \u001b[0mfn\u001b[0m\u001b[1;33m(\u001b[0m\u001b[1;33m*\u001b[0m\u001b[0margs\u001b[0m\u001b[1;33m)\u001b[0m\u001b[1;33m\u001b[0m\u001b[1;33m\u001b[0m\u001b[0m\n\u001b[0m\u001b[0;32m   1335\u001b[0m     \u001b[1;32mexcept\u001b[0m \u001b[0merrors\u001b[0m\u001b[1;33m.\u001b[0m\u001b[0mOpError\u001b[0m \u001b[1;32mas\u001b[0m \u001b[0me\u001b[0m\u001b[1;33m:\u001b[0m\u001b[1;33m\u001b[0m\u001b[1;33m\u001b[0m\u001b[0m\n\u001b[0;32m   1336\u001b[0m       \u001b[0mmessage\u001b[0m \u001b[1;33m=\u001b[0m \u001b[0mcompat\u001b[0m\u001b[1;33m.\u001b[0m\u001b[0mas_text\u001b[0m\u001b[1;33m(\u001b[0m\u001b[0me\u001b[0m\u001b[1;33m.\u001b[0m\u001b[0mmessage\u001b[0m\u001b[1;33m)\u001b[0m\u001b[1;33m\u001b[0m\u001b[1;33m\u001b[0m\u001b[0m\n",
      "\u001b[1;32mD:\\Software\\Anaconda\\envs\\tft\\lib\\site-packages\\tensorflow\\python\\client\\session.py\u001b[0m in \u001b[0;36m_run_fn\u001b[1;34m(feed_dict, fetch_list, target_list, options, run_metadata)\u001b[0m\n\u001b[0;32m   1317\u001b[0m       \u001b[0mself\u001b[0m\u001b[1;33m.\u001b[0m\u001b[0m_extend_graph\u001b[0m\u001b[1;33m(\u001b[0m\u001b[1;33m)\u001b[0m\u001b[1;33m\u001b[0m\u001b[1;33m\u001b[0m\u001b[0m\n\u001b[0;32m   1318\u001b[0m       return self._call_tf_sessionrun(\n\u001b[1;32m-> 1319\u001b[1;33m           options, feed_dict, fetch_list, target_list, run_metadata)\n\u001b[0m\u001b[0;32m   1320\u001b[0m \u001b[1;33m\u001b[0m\u001b[0m\n\u001b[0;32m   1321\u001b[0m     \u001b[1;32mdef\u001b[0m \u001b[0m_prun_fn\u001b[0m\u001b[1;33m(\u001b[0m\u001b[0mhandle\u001b[0m\u001b[1;33m,\u001b[0m \u001b[0mfeed_dict\u001b[0m\u001b[1;33m,\u001b[0m \u001b[0mfetch_list\u001b[0m\u001b[1;33m)\u001b[0m\u001b[1;33m:\u001b[0m\u001b[1;33m\u001b[0m\u001b[1;33m\u001b[0m\u001b[0m\n",
      "\u001b[1;32mD:\\Software\\Anaconda\\envs\\tft\\lib\\site-packages\\tensorflow\\python\\client\\session.py\u001b[0m in \u001b[0;36m_call_tf_sessionrun\u001b[1;34m(self, options, feed_dict, fetch_list, target_list, run_metadata)\u001b[0m\n\u001b[0;32m   1405\u001b[0m     return tf_session.TF_SessionRun_wrapper(\n\u001b[0;32m   1406\u001b[0m         \u001b[0mself\u001b[0m\u001b[1;33m.\u001b[0m\u001b[0m_session\u001b[0m\u001b[1;33m,\u001b[0m \u001b[0moptions\u001b[0m\u001b[1;33m,\u001b[0m \u001b[0mfeed_dict\u001b[0m\u001b[1;33m,\u001b[0m \u001b[0mfetch_list\u001b[0m\u001b[1;33m,\u001b[0m \u001b[0mtarget_list\u001b[0m\u001b[1;33m,\u001b[0m\u001b[1;33m\u001b[0m\u001b[1;33m\u001b[0m\u001b[0m\n\u001b[1;32m-> 1407\u001b[1;33m         run_metadata)\n\u001b[0m\u001b[0;32m   1408\u001b[0m \u001b[1;33m\u001b[0m\u001b[0m\n\u001b[0;32m   1409\u001b[0m   \u001b[1;32mdef\u001b[0m \u001b[0m_call_tf_sessionprun\u001b[0m\u001b[1;33m(\u001b[0m\u001b[0mself\u001b[0m\u001b[1;33m,\u001b[0m \u001b[0mhandle\u001b[0m\u001b[1;33m,\u001b[0m \u001b[0mfeed_dict\u001b[0m\u001b[1;33m,\u001b[0m \u001b[0mfetch_list\u001b[0m\u001b[1;33m)\u001b[0m\u001b[1;33m:\u001b[0m\u001b[1;33m\u001b[0m\u001b[1;33m\u001b[0m\u001b[0m\n",
      "\u001b[1;31mKeyboardInterrupt\u001b[0m: "
     ]
    }
   ],
   "source": [
    "print(\"Before optimization accuracy:\")\n",
    "print_test_accuaracy()\n",
    "print(\"After 100 iterations optimizations:\")\n",
    "optimize(100)\n",
    "print_test_accuaracy()\n",
    "print(\"After 1000 iterations optimizations:\")\n",
    "optimize(900)\n",
    "print_test_accuaracy()"
   ]
  },
  {
   "cell_type": "code",
   "execution_count": 43,
   "metadata": {},
   "outputs": [
    {
     "name": "stdout",
     "output_type": "stream",
     "text": [
      "After 10000 Iterations training: \n",
      "Optimization Iteration:      1, Training Accuracy:  79.7%\n",
      "Time usage: 0:00:00\n",
      "Accuracy on test set:79.0% (7905/10000)\n",
      "[[ 977    0    0    0    0    0    2    0    0    1]\n",
      " [   1 1128    0    2    0    1    1    2    0    0]\n",
      " [ 987    6    0   22    2    2    5    8    0    0]\n",
      " [   3    0    0 1002    0    4    0    1    0    0]\n",
      " [   1    0    0    0  968    0    6    3    0    4]\n",
      " [   2    0    0    4    0  880    6    0    0    0]\n",
      " [   0    2    0    1    1    2  952    0    0    0]\n",
      " [   4    1    0    6    0    0    0 1013    0    4]\n",
      " [ 885    3    0   36    5   18   19    3    0    5]\n",
      " [   2    5    0    5    5    4    0    3    0  985]]\n"
     ]
    },
    {
     "data": {
      "image/png": "[encoded data removed]",
      "text/plain": [
       "<Figure size 288x288 with 2 Axes>"
      ]
     },
     "metadata": {
      "needs_background": "light"
     },
     "output_type": "display_data"
    }
   ],
   "source": [
    "total_iterations = 0\n",
    "print(\"After 10000 Iterations training: \")\n",
    "optimize(1)\n",
    "print_test_accuaracy(plot_confusion_matrix_=True)"
   ]
  },
  {
   "cell_type": "code",
   "execution_count": null,
   "metadata": {},
   "outputs": [],
   "source": []
  },
  {
   "cell_type": "markdown",
   "metadata": {},
   "source": [
    "## Exercise"
   ]
  },
  {
   "cell_type": "markdown",
   "metadata": {},
   "source": [
    "### Exercise 1\n",
    "Change the learning rate for ths optimizer"
   ]
  },
  {
   "cell_type": "markdown",
   "metadata": {},
   "source": [
    "### Exercise2\n",
    "Change the configuration of the layers, such as the number of convolutional filters, the size of those filters, the number of neurons in the fully-connected layer, etc."
   ]
  },
  {
   "cell_type": "markdown",
   "metadata": {},
   "source": [
    "### Exercise 3\n",
    "Add a so-called drop-out layer after the fully-connected layer. Note that the drop-out probability should be zero when calculating the classification accuracy, so you will need a placeholder variable for this probability."
   ]
  },
  {
   "cell_type": "markdown",
   "metadata": {},
   "source": [
    "### Exercise 4\n",
    "Change the order of ReLU and max-pooling in the convolutional layer. Does it calculate the same thing? What is the fastest way of computing it? How many calculations are saved? Does it also work for Sigmoid-functions and average-pooling?"
   ]
  },
  {
   "cell_type": "code",
   "execution_count": null,
   "metadata": {},
   "outputs": [],
   "source": []
  },
  {
   "cell_type": "code",
   "execution_count": null,
   "metadata": {},
   "outputs": [],
   "source": []
  },
  {
   "cell_type": "code",
   "execution_count": null,
   "metadata": {},
   "outputs": [],
   "source": []
  },
  {
   "cell_type": "code",
   "execution_count": null,
   "metadata": {},
   "outputs": [],
   "source": []
  }
 ],
 "metadata": {
  "kernelspec": {
   "display_name": "Python 3",
   "language": "python",
   "name": "python3"
  },
  "language_info": {
   "codemirror_mode": {
    "name": "ipython",
    "version": 3
   },
   "file_extension": ".py",
   "mimetype": "text/x-python",
   "name": "python",
   "nbconvert_exporter": "python",
   "pygments_lexer": "ipython3",
   "version": "3.6.8"
  }
 },
 "nbformat": 4,
 "nbformat_minor": 2
}
